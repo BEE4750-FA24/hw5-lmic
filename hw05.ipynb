{
  "cells": [
    {
      "cell_type": "markdown",
      "id": "f25056fc-44dd-4baa-88ff-b2e879a9d2c4",
      "metadata": {},
      "source": [
        "# BEE 4750 Homework 5: Mixed Integer and Stochastic Programming\n",
        "\n",
        "**Name**: Lauren Michel\n",
        "\n",
        "**ID**: lam425\n",
        "\n",
        "> **Due Date**\n",
        ">\n",
        "> Thursday, 12/05/24, 9:00pm\n",
        "\n",
        "## Overview"
      ]
    },
    {
      "cell_type": "markdown",
      "id": "bdc61f0a-d224-4e85-9d0f-dc78118e17b2",
      "metadata": {},
      "source": [
        "### Instructions\n",
        "\n",
        "-   In Problem 1, you will use mixed integer programming to solve a\n",
        "    waste load allocation problem."
      ]
    },
    {
      "cell_type": "markdown",
      "id": "f28855a0-60d2-442e-b8ef-1ceaee826af6",
      "metadata": {},
      "source": [
        "### Load Environment\n",
        "\n",
        "The following code loads the environment and makes sure all needed\n",
        "packages are installed. This should be at the start of most Julia\n",
        "scripts."
      ]
    },
    {
      "cell_type": "code",
      "execution_count": 2,
      "id": "2",
      "metadata": {},
      "outputs": [
        {
          "name": "stderr",
          "output_type": "stream",
          "text": [
            "\u001b[32m\u001b[1m  Activating\u001b[22m\u001b[39m project at `~/Desktop/BEE4750/hw5-lmic`\n",
            "\u001b[32m\u001b[1mPrecompiling\u001b[22m\u001b[39m project...\n",
            "\u001b[32m  ✓ \u001b[39m\u001b[90mLatexify → DataFramesExt\u001b[39m\n",
            "  1 dependency successfully precompiled in 3 seconds. 232 already precompiled.\n"
          ]
        }
      ],
      "source": [
        "import Pkg\n",
        "Pkg.activate(@__DIR__)\n",
        "Pkg.instantiate()"
      ]
    },
    {
      "cell_type": "code",
      "execution_count": 3,
      "id": "4",
      "metadata": {},
      "outputs": [],
      "source": [
        "using JuMP\n",
        "using HiGHS\n",
        "using DataFrames\n",
        "using GraphRecipes\n",
        "using Plots\n",
        "using Measures\n",
        "using MarkdownTables"
      ]
    },
    {
      "cell_type": "markdown",
      "id": "7cd4181d-a987-4e3a-8dad-cfdef5fb6270",
      "metadata": {},
      "source": [
        "## Problems (Total: 30 Points)\n",
        "\n",
        "### Problem 1 (30 points)\n",
        "\n",
        "Three cities are developing a coordinated municipal solid waste (MSW)\n",
        "disposal plan. Three disposal alternatives are being considered: a\n",
        "landfill (LF), a materials recycling facility (MRF), and a\n",
        "waste-to-energy facility (WTE). The capacities of these facilities and\n",
        "the fees for operation and disposal are provided below.\n",
        "\n",
        "-   **LF**: Capacity 200 Mg, fixed cost \\$2000/day, tipping cost\n",
        "    \\$50/Mg;\n",
        "-   **MRF**: Capacity 350 Mg, fixed cost \\$1500/day, tipping cost\n",
        "    \\$7/Mg, recycling cost \\$40/Mg recycled;\n",
        "-   **WTE**: Capacity 210 Mg, fixed cost \\$2500/day, tipping cost\n",
        "    \\$60/Mg;\n",
        "\n",
        "The MRF recycling rate is 40%, and the ash fraction of non-recycled\n",
        "waste is 16% and of recycled waste is 14%. Transportation costs are\n",
        "\\$1.5/Mg-km, and the relative distances between the cities and\n",
        "facilities are provided in the table below.\n",
        "\n",
        "| **City/Facility** | **Landfill (km)** | **MRF (km)** | **WTE (km)** |\n",
        "|:-----------------:|:-----------------:|:------------:|:------------:|\n",
        "|         1         |         5         |      30      |      15      |\n",
        "|         2         |        15         |      25      |      10      |\n",
        "|         3         |        13         |      45      |      20      |\n",
        "|        LF         |        \\-         |      32      |      18      |\n",
        "|        MRF        |        32         |      \\-      |      15      |\n",
        "|        WTE        |        18         |      15      |      \\-      |\n",
        "\n",
        "The fixed costs associated with the disposal options are incurred only\n",
        "if the particular disposal option is implemented. The three cities\n",
        "produce 100, 90, and 120 Mg/day of solid waste, respectively, with the\n",
        "composition provided in the table below.\n",
        "\n",
        "**Reminder**: Use `round(x; digits=n)` to report values to the\n",
        "appropriate precision!\n",
        "\n",
        "**In this problem**:\n",
        "\n",
        "-   Formulate the waste load allocation problem and implement it in\n",
        "    `JuMP`.\n",
        "-   Draw a diagram showing the flows of waste between the cities and the\n",
        "    facilities. Which facilities (if any) will not be used? Does this\n",
        "    solution make sense?"
      ]
    },
    {
      "cell_type": "code",
      "execution_count": 28,
      "id": "7d21a03c",
      "metadata": {},
      "outputs": [
        {
          "name": "stdout",
          "output_type": "stream",
          "text": [
            "Min 2500 Y[1] + 1500 Y[2] + 2000 Y[3] + 82.5 W[1,1] + 75 W[2,1] + 90 W[3,1] + 68 W[1,2] + 60.5 W[2,2] + 90.5 W[3,2] + 57.5 W[1,3] + 72.5 W[2,3] + 69.5 W[3,3] + 57.5 R[1,3] + 72.5 R[2,3] + 69.5 R[3,3] + 75 R[2,1] + 90 R[3,1]\n",
            "Subject to\n",
            " commit3 : Y[3] = 1\n",
            " massbal1 : W[1,1] + W[1,2] + W[1,3] = 100\n",
            " massbal2 : W[2,1] + W[2,2] + W[2,3] = 90\n",
            " massbal3 : W[3,1] + W[3,2] + W[3,3] = 120\n",
            " wteres : 0.16 W[1,1] + 0.16 W[2,1] + 0.16 W[3,1] + 0.16 R[2,1] + 0.16 R[3,1] - R[1,3] = 0\n",
            " recmrfres : 0.05600000000000001 W[1,2] + 0.05600000000000001 W[2,2] + 0.05600000000000001 W[3,2] - R[2,3] = 0\n",
            " mrfres : 0.6 W[1,2] + 0.6 W[2,2] + 0.6 W[3,2] - R[2,1] - R[2,3] = 0\n",
            " commit1 : W[1,1] + W[2,1] + W[3,1] + R[2,1] + R[3,1] - 1000000 Y[1] ≤ 0\n",
            " commit2 : W[2,1] + W[2,2] + W[2,3] - 1000000 Y[2] ≤ 0\n",
            " wtedisp : W[1,1] + W[2,1] + W[2,3] + R[2,1] + R[3,1] ≤ 210\n",
            " mrfdisp : W[1,2] + W[2,2] + W[3,2] ≤ 350\n",
            " lfdisp : W[1,3] + W[2,3] + W[3,3] + R[1,3] + R[2,3] + R[3,3] ≤ 200\n",
            " W[1,1] ≥ 0\n",
            " W[2,1] ≥ 0\n",
            " W[3,1] ≥ 0\n",
            " W[1,2] ≥ 0\n",
            " W[2,2] ≥ 0\n",
            " W[3,2] ≥ 0\n",
            " W[1,3] ≥ 0\n",
            " W[2,3] ≥ 0\n",
            " W[3,3] ≥ 0\n",
            " R[1,1] ≥ 0\n",
            " R[2,1] ≥ 0\n",
            " R[3,1] ≥ 0\n",
            " R[1,2] ≥ 0\n",
            " R[2,2] ≥ 0\n",
            " R[3,2] ≥ 0\n",
            " R[1,3] ≥ 0\n",
            " R[2,3] ≥ 0\n",
            " R[3,3] ≥ 0\n",
            " Y[1] binary\n",
            " Y[2] binary\n",
            " Y[3] binary\n"
          ]
        }
      ],
      "source": [
        "waste_model = Model(HiGHS.Optimizer)\n",
        "\n",
        "@variable(waste_model, W[1:3,1:3] >= 0)\n",
        "@variable(waste_model, R[1:3,1:3] >= 0)\n",
        "@variable(waste_model, Y[1:3], Bin)\n",
        "\n",
        "@objective(waste_model, Min, (2500*Y[1]) + (1500*Y[2]) + (2000*Y[3]) + (82.5*W[1,1]) + (75*W[2,1]) + (90*W[3,1]) + (68*W[1,2]) + (60.5*W[2,2]) + (90.5*W[3,2]) + (57.5*W[1,3]) + (72.5*W[2,3]) + (69.5*W[3,3]) + (57.5*R[1,3]) + (72.5*R[2,3]) + (69.5*R[3,3]) + (75*R[2,1]) + (90*R[3,1]))\n",
        "\n",
        "@constraint(waste_model, commit1, W[1,1]+W[2,1]+W[3,1]+R[2,1]+R[3,1] <= 1000000*Y[1])\n",
        "@constraint(waste_model, commit2, W[2,1]+W[2,2]+W[2,3] <= 1000000*Y[2])\n",
        "@constraint(waste_model, commit3, Y[3] == 1)\n",
        "\n",
        "@constraint(waste_model, massbal1, W[1,1]+W[1,2]+W[1,3] == 100)\n",
        "@constraint(waste_model, massbal2, W[2,1]+W[2,2]+W[2,3] == 90)\n",
        "@constraint(waste_model, massbal3, W[3,1]+W[3,2]+W[3,3] == 120)\n",
        "\n",
        "@constraint(waste_model, wteres, (0.16*(W[1,1]+W[2,1]+W[3,1]+R[2,1]+R[3,1]))-R[1,3] == 0)\n",
        "@constraint(waste_model, recmrfres, (0.14*0.4*(W[1,2]+W[2,2]+W[3,2]))-R[2,3] == 0)\n",
        "@constraint(waste_model, mrfres, (0.6*(W[1,2]+W[2,2]+W[3,2]))-R[2,1]-R[2,3] == 0)\n",
        "\n",
        "@constraint(waste_model, wtedisp, W[1,1]+W[2,1]+W[2,3]+R[2,1]+R[3,1] <= 210)\n",
        "@constraint(waste_model, mrfdisp, W[1,2]+W[2,2]+W[3,2] <= 350)\n",
        "@constraint(waste_model, lfdisp, W[1,3]+W[2,3]+W[3,3]+R[1,3]+R[2,3]+R[3,3] <= 200)\n",
        "\n",
        "print(waste_model)"
      ]
    },
    {
      "cell_type": "code",
      "execution_count": 29,
      "id": "41f376ff",
      "metadata": {},
      "outputs": [
        {
          "name": "stdout",
          "output_type": "stream",
          "text": [
            "Running HiGHS 1.8.1 (git hash: 4a7f24ac6): Copyright (c) 2024 HiGHS under MIT licence terms\n",
            "Coefficient ranges:\n",
            "  Matrix [6e-02, 1e+06]\n",
            "  Cost   [6e+01, 2e+03]\n",
            "  Bound  [1e+00, 1e+00]\n",
            "  RHS    [1e+00, 4e+02]\n",
            "Presolving model\n",
            "10 rows, 15 cols, 44 nonzeros  0s\n",
            "8 rows, 13 cols, 39 nonzeros  0s\n",
            "6 rows, 9 cols, 25 nonzeros  0s\n",
            "5 rows, 9 cols, 19 nonzeros  0s\n",
            "\n",
            "Solving MIP model with:\n",
            "   5 rows\n",
            "   9 cols (0 binary, 0 integer, 0 implied int., 9 continuous)\n",
            "   19 nonzeros\n",
            "MIP-Timing:      0.0007 - starting analytic centre calculation\n",
            "\n",
            "Src: B => Branching; C => Central rounding; F => Feasibility pump; H => Heuristic; L => Sub-MIP;\n",
            "     P => Empty MIP; R => Randomized rounding; S => Solve LP; T => Evaluate node; U => Unbounded;\n",
            "     z => Trivial zero; l => Trivial lower; u => Trivial upper; p => Trivial point\n",
            "\n",
            "        Nodes      |    B&B Tree     |            Objective Bounds              |  Dynamic Constraints |       Work      \n",
            "Src  Proc. InQueue |  Leaves   Expl. | BestBound       BestSol              Gap |   Cuts   InLp Confl. | LpIters     Time\n",
            "\n",
            "         0       0         0   0.00%   6000            inf                  inf        0      0      0         0     0.0s\n",
            " T       0       0         0   0.00%   6000            28884.285714      79.23%        0      0      0         4     0.0s\n",
            "         1       0         1 100.00%   28884.285714    28884.285714       0.00%        0      0      0         4     0.0s\n",
            "\n",
            "Solving report\n",
            "  Status            Optimal\n",
            "  Primal bound      28884.2857143\n",
            "  Dual bound        28884.2857143\n",
            "  Gap               0% (tolerance: 0.01%)\n",
            "  P-D integral      8.08753422225e-06\n",
            "  Solution status   feasible\n",
            "                    28884.2857143 (objective)\n",
            "                    0 (bound viol.)\n",
            "                    0 (int. viol.)\n",
            "                    0 (row viol.)\n",
            "  Timing            0.00 (total)\n",
            "                    0.00 (presolve)\n",
            "                    0.00 (solve)\n",
            "                    0.00 (postsolve)\n",
            "  Max sub-MIP depth 0\n",
            "  Nodes             1\n",
            "  Repair LPs        0 (0 feasible; 0 iterations)\n",
            "  LP iterations     4 (total)\n",
            "                    0 (strong br.)\n",
            "                    0 (separation)\n",
            "                    0 (heuristics)\n"
          ]
        }
      ],
      "source": [
        "optimize!(waste_model)"
      ]
    },
    {
      "cell_type": "code",
      "execution_count": 30,
      "id": "2522df05",
      "metadata": {},
      "outputs": [
        {
          "name": "stdout",
          "output_type": "stream",
          "text": [
            "value.(W) = [0.0 0.0 100.0; 90.0 0.0 -0.0; 40.95238095238096 0.0 79.04761904761904]\n"
          ]
        },
        {
          "data": {
            "text/plain": [
              "3×3 Matrix{Float64}:\n",
              "  0.0     0.0  100.0\n",
              " 90.0     0.0   -0.0\n",
              " 40.9524  0.0   79.0476"
            ]
          },
          "metadata": {},
          "output_type": "display_data"
        }
      ],
      "source": [
        "@show value.(W)"
      ]
    },
    {
      "cell_type": "code",
      "execution_count": 33,
      "id": "c26d247d",
      "metadata": {},
      "outputs": [
        {
          "name": "stdout",
          "output_type": "stream",
          "text": [
            "value.(W[1, 3]) = 100.0\n"
          ]
        },
        {
          "data": {
            "text/plain": [
              "100.0"
            ]
          },
          "metadata": {},
          "output_type": "display_data"
        }
      ],
      "source": [
        "@show value.(W[1,3])"
      ]
    },
    {
      "cell_type": "code",
      "execution_count": 31,
      "id": "813e7308",
      "metadata": {},
      "outputs": [
        {
          "name": "stdout",
          "output_type": "stream",
          "text": [
            "value.(R) = [0.0 0.0 20.952380952380956; 0.0 0.0 0.0; 0.0 0.0 0.0]\n"
          ]
        },
        {
          "data": {
            "text/plain": [
              "3×3 Matrix{Float64}:\n",
              " 0.0  0.0  20.9524\n",
              " 0.0  0.0   0.0\n",
              " 0.0  0.0   0.0"
            ]
          },
          "metadata": {},
          "output_type": "display_data"
        }
      ],
      "source": [
        "@show value.(R)"
      ]
    },
    {
      "cell_type": "code",
      "execution_count": 32,
      "id": "645d770f",
      "metadata": {},
      "outputs": [
        {
          "name": "stdout",
          "output_type": "stream",
          "text": [
            "value.(Y) = [1.0, 1.0, 1.0]\n"
          ]
        },
        {
          "data": {
            "text/plain": [
              "3-element Vector{Float64}:\n",
              " 1.0\n",
              " 1.0\n",
              " 1.0"
            ]
          },
          "metadata": {},
          "output_type": "display_data"
        }
      ],
      "source": [
        "@show value.(Y)"
      ]
    },
    {
      "cell_type": "markdown",
      "id": "b6d659ee-115e-43c3-81d4-56c4aaf92fb7",
      "metadata": {},
      "source": [
        "## References\n",
        "\n",
        "List any external references consulted, including classmates."
      ]
    }
  ],
  "metadata": {
    "kernel_info": {
      "name": "julia"
    },
    "kernelspec": {
      "display_name": "Julia 1.10.4",
      "language": "julia",
      "name": "julia-1.10"
    },
    "language_info": {
      "file_extension": ".jl",
      "mimetype": "application/julia",
      "name": "julia",
      "version": "1.10.4"
    }
  },
  "nbformat": 4,
  "nbformat_minor": 5
}
